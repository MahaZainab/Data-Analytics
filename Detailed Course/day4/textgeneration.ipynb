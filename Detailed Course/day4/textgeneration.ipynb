{
 "cells": [
  {
   "cell_type": "code",
   "execution_count": null,
   "metadata": {},
   "outputs": [],
   "source": []
  },
  {
   "cell_type": "markdown",
   "metadata": {},
   "source": [
    "# There are four types of text generation Techniques\n",
    "1. Greedy Search\n",
    "2. Beam Search\n",
    "3. Top k Sampling\n",
    "4. Top P sampling\n"
   ]
  }
 ],
 "metadata": {
  "language_info": {
   "name": "python"
  }
 },
 "nbformat": 4,
 "nbformat_minor": 2
}
